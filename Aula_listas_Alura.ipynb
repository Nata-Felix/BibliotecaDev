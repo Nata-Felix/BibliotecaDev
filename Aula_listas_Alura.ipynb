{
  "nbformat": 4,
  "nbformat_minor": 0,
  "metadata": {
    "colab": {
      "provenance": [],
      "authorship_tag": "ABX9TyMncuER8AHR6wOUkOHlL5nU",
      "include_colab_link": true
    },
    "kernelspec": {
      "name": "python3",
      "display_name": "Python 3"
    },
    "language_info": {
      "name": "python"
    }
  },
  "cells": [
    {
      "cell_type": "markdown",
      "metadata": {
        "id": "view-in-github",
        "colab_type": "text"
      },
      "source": [
        "<a href=\"https://colab.research.google.com/github/Nata-Felix/BibliotecaDev/blob/main/Aula_listas_Alura.ipynb\" target=\"_parent\"><img src=\"https://colab.research.google.com/assets/colab-badge.svg\" alt=\"Open In Colab\"/></a>"
      ]
    },
    {
      "cell_type": "code",
      "execution_count": 11,
      "metadata": {
        "colab": {
          "base_uri": "https://localhost:8080/"
        },
        "id": "AxAO3nm8A_NB",
        "outputId": "9d78a08f-29d7-4c09-ad08-f6b82360a829"
      },
      "outputs": [
        {
          "output_type": "execute_result",
          "data": {
            "text/plain": [
              "['Alice',\n",
              " 'Bob',\n",
              " 'Charlie',\n",
              " 'David',\n",
              " 'Eve',\n",
              " 'Frank',\n",
              " 'Grace',\n",
              " 'Helen',\n",
              " 'Ivy',\n",
              " 'Jack']"
            ]
          },
          "metadata": {},
          "execution_count": 11
        }
      ],
      "source": [
        "# prompt: gerar uma lista 2d  com 5 colunas e 5 linhas usando dados de nome e altura\n",
        "\n",
        "import random\n",
        "\n",
        "nomes = [\"Alice\", \"Bob\", \"Charlie\", \"David\", \"Eve\", \"Frank\", \"Grace\", \"Helen\", \"Ivy\", \"Jack\"]\n",
        "alturas = [random.uniform(1.50, 1.90) for _ in range(25)]\n",
        "\n",
        "nomes\n"
      ]
    },
    {
      "cell_type": "code",
      "source": [
        "nomes[1]"
      ],
      "metadata": {
        "colab": {
          "base_uri": "https://localhost:8080/",
          "height": 36
        },
        "id": "TmFj2b3HB-Bd",
        "outputId": "d5992a68-5e61-4e82-b2aa-54de05b59181"
      },
      "execution_count": 14,
      "outputs": [
        {
          "output_type": "execute_result",
          "data": {
            "text/plain": [
              "'Bob'"
            ],
            "application/vnd.google.colaboratory.intrinsic+json": {
              "type": "string"
            }
          },
          "metadata": {},
          "execution_count": 14
        }
      ]
    },
    {
      "cell_type": "code",
      "source": [
        "nomes[:1]"
      ],
      "metadata": {
        "colab": {
          "base_uri": "https://localhost:8080/"
        },
        "id": "23w8m0CdCChE",
        "outputId": "6e8c4167-b585-4cc7-dd9e-201041f5745c"
      },
      "execution_count": 16,
      "outputs": [
        {
          "output_type": "execute_result",
          "data": {
            "text/plain": [
              "['Alice']"
            ]
          },
          "metadata": {},
          "execution_count": 16
        }
      ]
    },
    {
      "cell_type": "code",
      "source": [
        "nomes[-2:]"
      ],
      "metadata": {
        "colab": {
          "base_uri": "https://localhost:8080/"
        },
        "id": "XQ_EMfETCHU6",
        "outputId": "570bb3ed-4c8e-40c6-a663-e0ea4aa1212e"
      },
      "execution_count": 21,
      "outputs": [
        {
          "output_type": "execute_result",
          "data": {
            "text/plain": [
              "['Ivy', 'Jack']"
            ]
          },
          "metadata": {},
          "execution_count": 21
        }
      ]
    },
    {
      "cell_type": "code",
      "source": [
        "#adicionar nome na lista #Método append\n",
        "nomes.append('Natã') #entre os parenteses colocar oque quer adicionar na lista\n",
        "nomes"
      ],
      "metadata": {
        "colab": {
          "base_uri": "https://localhost:8080/"
        },
        "id": "HnOdkwCNCJyf",
        "outputId": "7dd6b4ab-2ab5-4569-d167-b5560d838cf9"
      },
      "execution_count": 23,
      "outputs": [
        {
          "output_type": "execute_result",
          "data": {
            "text/plain": [
              "['Alice',\n",
              " 'Bob',\n",
              " 'Charlie',\n",
              " 'David',\n",
              " 'Eve',\n",
              " 'Frank',\n",
              " 'Grace',\n",
              " 'Helen',\n",
              " 'Ivy',\n",
              " 'Jack',\n",
              " 'Natã',\n",
              " 'Natã']"
            ]
          },
          "metadata": {},
          "execution_count": 23
        }
      ]
    },
    {
      "cell_type": "code",
      "source": [
        "#método extend, adiciona elemntos ao final da lista.\n",
        "#Adiciona o elemento de uma lista a outra lista, intera uma lista na outra.\n",
        "altura = [1.78,1.80]\n",
        "alturas.extend(altura)\n",
        "\n",
        "# Lembrando que se usar o append ele vai adicionar toda alista como um unico objeto"
      ],
      "metadata": {
        "id": "KIAvCfxpCaah"
      },
      "execution_count": 24,
      "outputs": []
    },
    {
      "cell_type": "code",
      "source": [
        "print(alturas)"
      ],
      "metadata": {
        "colab": {
          "base_uri": "https://localhost:8080/"
        },
        "id": "pV3XApwfC7Aa",
        "outputId": "d28ed034-2aad-4f6e-a1c4-7e93cb973088"
      },
      "execution_count": 25,
      "outputs": [
        {
          "output_type": "stream",
          "name": "stdout",
          "text": [
            "[1.7169252001585327, 1.8015186281508986, 1.7405113069222713, 1.8249611469160056, 1.755543962184171, 1.7406368809649992, 1.7613589690932268, 1.7254165239324732, 1.879552828271952, 1.7546356211383898, 1.5027732748137477, 1.8209146192164956, 1.8516136260403595, 1.5766468626463903, 1.7041079836988275, 1.777641053681823, 1.7960793326137703, 1.521114590300827, 1.7896754687641792, 1.7648738181462078, 1.5912847511313595, 1.6239994850005746, 1.7224662310033867, 1.7974845030493292, 1.8966211796589154, 1.78, 1.8]\n"
          ]
        }
      ]
    },
    {
      "cell_type": "code",
      "source": [
        "#Remove, remove itens da lista\n",
        "\n",
        "nomes.remove(nomes[-1])\n",
        "nomes"
      ],
      "metadata": {
        "colab": {
          "base_uri": "https://localhost:8080/"
        },
        "id": "VhRHgJXpC9mm",
        "outputId": "c91b37b9-2107-48c3-f98e-ddba246a3ffc"
      },
      "execution_count": 27,
      "outputs": [
        {
          "output_type": "execute_result",
          "data": {
            "text/plain": [
              "['Alice',\n",
              " 'Bob',\n",
              " 'Charlie',\n",
              " 'David',\n",
              " 'Eve',\n",
              " 'Frank',\n",
              " 'Grace',\n",
              " 'Helen',\n",
              " 'Ivy',\n",
              " 'Jack',\n",
              " 'Natã']"
            ]
          },
          "metadata": {},
          "execution_count": 27
        }
      ]
    },
    {
      "cell_type": "code",
      "source": [
        "#insert, com esse eu posso escolher a onde quero posicionar o elemento no indice.\n",
        "#insert(indice, elemento)\n",
        "\n",
        "nomes.insert(0, 'Lucas')\n",
        "nomes"
      ],
      "metadata": {
        "colab": {
          "base_uri": "https://localhost:8080/"
        },
        "id": "TtB4rW7GDPdn",
        "outputId": "8bcbd205-4543-4b3a-d868-b4975994ee50"
      },
      "execution_count": 28,
      "outputs": [
        {
          "output_type": "execute_result",
          "data": {
            "text/plain": [
              "['Lucas',\n",
              " 'Alice',\n",
              " 'Bob',\n",
              " 'Charlie',\n",
              " 'David',\n",
              " 'Eve',\n",
              " 'Frank',\n",
              " 'Grace',\n",
              " 'Helen',\n",
              " 'Ivy',\n",
              " 'Jack',\n",
              " 'Natã']"
            ]
          },
          "metadata": {},
          "execution_count": 28
        }
      ]
    },
    {
      "cell_type": "code",
      "source": [
        "#pop () Esse método remove um elemento de uma determinada\n",
        "#posição da lista e o retorno com saida ne execução do metods\n",
        "\n",
        "nomes.pop(0)\n",
        "nomes"
      ],
      "metadata": {
        "colab": {
          "base_uri": "https://localhost:8080/"
        },
        "id": "ghk6T1MVDu-Z",
        "outputId": "b148f647-7593-4a72-e5d0-fbdbf13237f5"
      },
      "execution_count": 29,
      "outputs": [
        {
          "output_type": "execute_result",
          "data": {
            "text/plain": [
              "['Alice',\n",
              " 'Bob',\n",
              " 'Charlie',\n",
              " 'David',\n",
              " 'Eve',\n",
              " 'Frank',\n",
              " 'Grace',\n",
              " 'Helen',\n",
              " 'Ivy',\n",
              " 'Jack',\n",
              " 'Natã']"
            ]
          },
          "metadata": {},
          "execution_count": 29
        }
      ]
    },
    {
      "cell_type": "code",
      "source": [
        "#index() Retorna o índice de um elemento especifico na lista\n",
        "\n",
        "nomes.index('Natã')\n",
        "print(nomes.index('Natã'))"
      ],
      "metadata": {
        "colab": {
          "base_uri": "https://localhost:8080/"
        },
        "id": "X4NkBdcfEMpO",
        "outputId": "75238f23-a417-4553-d60e-cbc3362ac137"
      },
      "execution_count": 33,
      "outputs": [
        {
          "output_type": "stream",
          "name": "stdout",
          "text": [
            "10\n"
          ]
        }
      ]
    },
    {
      "cell_type": "code",
      "source": [
        "#sort () Ordena os itens da lista. Se form nome em ordem alfabetica, se numeros\n",
        "#em ordem crescente\n",
        "\n",
        "alturas.sort()\n",
        "alturas"
      ],
      "metadata": {
        "colab": {
          "base_uri": "https://localhost:8080/"
        },
        "id": "WAjwCAiGEVNy",
        "outputId": "dc36b41a-6607-42bb-b753-cb5cf4fff4cf"
      },
      "execution_count": 38,
      "outputs": [
        {
          "output_type": "execute_result",
          "data": {
            "text/plain": [
              "[1.5027732748137477,\n",
              " 1.521114590300827,\n",
              " 1.5766468626463903,\n",
              " 1.5912847511313595,\n",
              " 1.6239994850005746,\n",
              " 1.7041079836988275,\n",
              " 1.7169252001585327,\n",
              " 1.7224662310033867,\n",
              " 1.7254165239324732,\n",
              " 1.7405113069222713,\n",
              " 1.7406368809649992,\n",
              " 1.7546356211383898,\n",
              " 1.755543962184171,\n",
              " 1.7613589690932268,\n",
              " 1.7648738181462078,\n",
              " 1.777641053681823,\n",
              " 1.78,\n",
              " 1.7896754687641792,\n",
              " 1.7960793326137703,\n",
              " 1.7974845030493292,\n",
              " 1.8,\n",
              " 1.8015186281508986,\n",
              " 1.8209146192164956,\n",
              " 1.8249611469160056,\n",
              " 1.8516136260403595,\n",
              " 1.879552828271952,\n",
              " 1.8966211796589154]"
            ]
          },
          "metadata": {},
          "execution_count": 38
        }
      ]
    },
    {
      "cell_type": "code",
      "source": [],
      "metadata": {
        "id": "W-VDeLLbFEFw"
      },
      "execution_count": null,
      "outputs": []
    }
  ]
}